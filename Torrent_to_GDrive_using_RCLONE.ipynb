{
  "nbformat": 4,
  "nbformat_minor": 0,
  "metadata": {
    "colab": {
      "provenance": []
    },
    "kernelspec": {
      "name": "python3",
      "display_name": "Python 3"
    },
    "language_info": {
      "name": "python"
    }
  },
  "cells": [
    {
      "cell_type": "markdown",
      "source": [
        "# **<font color='white'> Torrents to Google Drive - Shared by [STJ].</font>**\n"
      ],
      "metadata": {
        "id": "I3TyCX8p_gHp"
      }
    },
    {
      "cell_type": "markdown",
      "source": [
        "---\n",
        "#Mount Google Drive with Rclone"
      ],
      "metadata": {
        "id": "O4LYATCv_wNA"
      }
    },
    {
      "cell_type": "code",
      "source": [
        "#@markdown <h3>📝 Note: Run this before using Rclone.</h3>\n",
        "#@markdown <h4>📝 Upload an rclone profile</4>\n",
        "Setup_Time_Zone = True  #@param {type:\"boolean\"}\n",
        "\n",
        "import os\n",
        "from google.colab import files\n",
        "from IPython.display import HTML, clear_output\n",
        "\n",
        "def upload_conf():\n",
        "    try:\n",
        "        display(HTML(\"<h2 style=\\\"font-family:Trebuchet MS;color:#446785;\\\">Please upload the config file of rclone (rclone.conf) from your computer.</h2><br>\"))\n",
        "        UploadConfig = files.upload().keys()\n",
        "        clear_output(wait=True)\n",
        "\n",
        "        if len(UploadConfig) == 0:\n",
        "            return display(HTML(\"<center><h2 style=\\\"font-family:Trebuchet MS;color:#ce2121;\\\">File upload has been canceled during upload file.</h2><br></center>\"))\n",
        "        elif len(UploadConfig) == 1:\n",
        "            for fn in UploadConfig:\n",
        "                if os.path.isfile(\"/content/\" + fn):\n",
        "                    os.environ[\"rclone_conf\"] = fn\n",
        "                    !mv -f \"$rclone_conf\" /root/.rclone.conf\n",
        "                    !chmod 666 /root/.rclone.conf\n",
        "                    if Setup_Time_Zone:\n",
        "                        # Set the default timezone to Asia/Kolkata\n",
        "                        !echo \"Asia/Kolkata\" > /etc/timezone\n",
        "                        #!sudo dpkg-reconfigure -f noninteractive tzdata\n",
        "                        clear_output(wait=True)\n",
        "                    if os.path.isfile(\"/usr/bin/rclone\"):\n",
        "                        return display(HTML(\"<center><h2 style=\\\"font-family:Trebuchet MS;color:#00b24c;\\\">Config has been changed.</h2><br></center>\"))\n",
        "                    else:\n",
        "                        !rm -rf /content/sample_data/\n",
        "                        !curl -s https://rclone.org/install.sh | sudo bash\n",
        "                        clear_output(wait=True)\n",
        "                        return display(HTML(\"<center><h2 style=\\\"font-family:Trebuchet MS;color:#446785;\\\">Installation has been successfully completed.</h2><br></center>\"))\n",
        "                else:\n",
        "                    return display(HTML(\"<center><h2 style=\\\"font-family:Trebuchet MS;color:#ce2121;\\\">File upload has been failed during upload file.</h2><br></center>\"))\n",
        "        else:\n",
        "            for fn in UploadConfig:\n",
        "                os.environ[\"rclone_conf\"] = fn\n",
        "                !rm -f \"$rclone_conf\"\n",
        "            return display(HTML(\"<center><h2 style=\\\"font-family:Trebuchet MS;color:#ce2121;\\\">Please upload only one file at a time.</h2><br></center>\"))\n",
        "    except Exception as e:\n",
        "        clear_output(wait=True)\n",
        "        return display(HTML(f\"<center><h2 style=\\\"font-family:Trebuchet MS;color:#ce2121;\\\">Error occurred during upload file: {str(e)}</h2><br></center>\"))\n",
        "\n",
        "upload_conf()\n"
      ],
      "metadata": {
        "id": "rlDYZTjJ_3eb",
        "colab": {
          "base_uri": "https://localhost:8080/",
          "height": 82
        },
        "cellView": "form",
        "outputId": "f205d594-a69d-41a5-dd13-f831dc1b4f16"
      },
      "execution_count": 3,
      "outputs": [
        {
          "output_type": "display_data",
          "data": {
            "text/plain": [
              "<IPython.core.display.HTML object>"
            ],
            "text/html": [
              "<center><h2 style=\"font-family:Trebuchet MS;color:#00b24c;\">Config has been changed.</h2><br></center>"
            ]
          },
          "metadata": {}
        }
      ]
    },
    {
      "cell_type": "code",
      "source": [
        "# ============================= FORM ============================= #\n",
        "#@markdown <h3>📝 Run this to mount the drive with rclone</h3>\n",
        "rclone_config_name = \"gdrive\" #@param {type:\"string\"}\n",
        "local_mount_location = \"/content/udrive/\" #@param {type:\"string\"}\n",
        "#@markdown The default qBittorrent download location is '/content/udrive/qBittorrent/' (they get downloaded to '/content/qBittorrent/' first)\n",
        "# ============================= FORM ============================= #\n",
        "\n",
        "import time\n",
        "import os\n",
        "\n",
        "# Install FUSE3\n",
        "!sudo apt-get install -y fuse3\n",
        "\n",
        "# clear nohup\n",
        "open(\"nohup.out\", 'w').close()\n",
        "\n",
        "# unmount first\n",
        "!fusermount -u $local_mount_location 2>/dev/null\n",
        "\n",
        "# mount without waiting for the command to complete\n",
        "!mkdir $local_mount_location 2>/dev/null\n",
        "!nohup rclone mount $rclone_config_name: $local_mount_location --buffer-size 96M &\n",
        "\n",
        "# Show the output that was written to nohup\n",
        "time.sleep(3)\n",
        "f = open(r\"nohup.out\", \"r\")\n",
        "nohupText = f.read()\n",
        "f.close()\n",
        "\n",
        "dirs = os.listdir(local_mount_location)\n",
        "\n",
        "if len(dirs) > 0:\n",
        "  clear_output(wait=True)\n",
        "  print(\"Succeeded. \", str(len(dirs)), \"dirs found at\", local_mount_location)\n",
        "else:\n",
        "  print(\"\\n\\nNot succeeded. No files or directories in the mounted location. \\nCheck your config name and content. If the rclone command was not found, run the cell above.\\n\\n\")\n",
        "  print(\"log:\\n\", nohupText)\n"
      ],
      "metadata": {
        "id": "fPOIo5YM_9zo",
        "colab": {
          "base_uri": "https://localhost:8080/"
        },
        "cellView": "form",
        "outputId": "5041daf0-1223-4285-996a-d6ae1e7039a5"
      },
      "execution_count": 4,
      "outputs": [
        {
          "output_type": "stream",
          "name": "stdout",
          "text": [
            "Succeeded.  9 dirs found at /content/udrive/\n"
          ]
        }
      ]
    },
    {
      "cell_type": "markdown",
      "source": [
        "---\n",
        "# <img src='https://raw.githubusercontent.com/sudo-ken/Torrents-to-Google-Drive/master/title_qbittorrent.png' height=\"45\" alt=\"qBittorrent\"/>\n",
        "\n",
        "###**<font color=\"red\">Update</font> - replaced ngrok with localtunnel**\n",
        "* Install localtunnel **first** and then install qbittorrent, then it'll give you a URL for the WEB-UI."
      ],
      "metadata": {
        "id": "FJtUNiRfADa1"
      }
    },
    {
      "cell_type": "code",
      "source": [
        "#@markdown <h3>INSTALL LOCALTUNNEL</h3>\n",
        "!npm install -g localtunnel\n"
      ],
      "metadata": {
        "id": "V8w3RK_yAGmV",
        "colab": {
          "base_uri": "https://localhost:8080/"
        },
        "cellView": "form",
        "outputId": "ea76baed-655c-4432-9d41-a5d58cf58430"
      },
      "execution_count": 5,
      "outputs": [
        {
          "output_type": "stream",
          "name": "stdout",
          "text": [
            "\u001b[K\u001b[?25h/tools/node/bin/lt -> /tools/node/lib/node_modules/localtunnel/bin/lt.js\n",
            "+ localtunnel@2.0.2\n",
            "added 22 packages from 22 contributors in 1.576s\n"
          ]
        }
      ]
    },
    {
      "cell_type": "code",
      "source": [
        "# ============================= FORM ============================= #\n",
        "#@markdown <h3>📝 INSTALL QBITTORRENT</h3>\n",
        "# !npm install -g localtunnel\n",
        "# !lt --port 5454\n",
        "\n",
        "import os, time, urllib.request, json; from IPython.display import clear_output\n",
        "\n",
        "\n",
        "if os.path.isfile(\"/usr/bin/qbittorrent-nox\") == False:\n",
        "    get_ipython().system_raw(\"apt update -qq -y && add-apt-repository ppa:qbittorrent-team/qbittorrent-stable -y && apt install qbittorrent-nox -y\")\n",
        "    get_ipython().system_raw(\"mkdir -p -m 666 /{content/qBittorrent,root/{.qBittorrent_temp,.config/qBittorrent}} && curl -Ls https://pastebin.com/raw/7TEALGNz -o /root/.config/qBittorrent/qBittorrent.conf\")\n",
        "    print(\"qBittorrent successfully installed.\")\n",
        "else:\n",
        "    print(\"qBittorrent already installed. Skipping...\")\n",
        "    !pkill qbittorrent-nox\n",
        "\n",
        "!qbittorrent-nox -d --webui-port=5454\n",
        "\n",
        "\n",
        "print(\"\\ls qBittorrent started\")\n",
        "\n",
        "if os.path.isfile(\"/usr/bin/rclone\") == False:\n",
        "    get_ipython().system_raw('curl https://rclone.org/install.sh | sudo bash &')\n",
        "    print(\"Rclone successfully installed\")\n",
        "else:\n",
        "    print(\"Rclone already installed. Skipping...\")\n",
        "!sudo wget -q -O - https://loca.lt/mytunnelpassword\n",
        "!lt --port 5454"
      ],
      "metadata": {
        "id": "kEh1AgqSAIan",
        "colab": {
          "base_uri": "https://localhost:8080/"
        },
        "cellView": "form",
        "outputId": "5cbaf739-d2b9-46fc-8c00-3fd6856e89ca"
      },
      "execution_count": null,
      "outputs": [
        {
          "output_type": "stream",
          "name": "stdout",
          "text": [
            "qBittorrent already installed. Skipping...\n",
            "\\ls qBittorrent started\n",
            "Rclone already installed. Skipping...\n",
            "34.28.150.169your url is: https://easy-parks-stare.loca.lt\n"
          ]
        }
      ]
    }
  ]
}